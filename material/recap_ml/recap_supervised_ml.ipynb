{
 "cells": [
  {
   "cell_type": "markdown",
   "metadata": {
    "slideshow": {
     "slide_type": "slide"
    }
   },
   "source": [
    "# Supervised machine learning\n",
    "## A recap and overview"
   ]
  },
  {
   "cell_type": "markdown",
   "metadata": {
    "slideshow": {
     "slide_type": "slide"
    }
   },
   "source": [
    "# Agenda\n",
    "- Why machine learning\n",
    "- When machine learning\n",
    "- How machine learning\n"
   ]
  },
  {
   "cell_type": "markdown",
   "metadata": {
    "slideshow": {
     "slide_type": "slide"
    }
   },
   "source": [
    "# Motivation"
   ]
  },
  {
   "cell_type": "markdown",
   "metadata": {
    "slideshow": {
     "slide_type": "slide"
    }
   },
   "source": [
    "## What has machine learning revolutionized\n",
    "\n",
    "Machine learning is useful for making very precise models and used widely:\n",
    "- Decide which product to show in an app / webpage. Facebook also have algorithms controlling who to connect with, which stories to show you.\n",
    "- Recognizing handwriting\n",
    "- Making self driving cars or bots to play computer games.\n",
    "- Creating chat bots that can speak with humans.\n",
    "- To detect fraud, spam etc."
   ]
  },
  {
   "cell_type": "markdown",
   "metadata": {
    "slideshow": {
     "slide_type": "slide"
    }
   },
   "source": [
    "## Why social scientists care (1)\n",
    "\n",
    "We are often interested in making a model with **good** fit.\n",
    "- When we are interested in predicting the future (stock markets, demographics etc.).\n",
    "- Our linear models do not account for non-linear effects.\n",
    "- If we do not have certain we can impute the missing data.\n",
    "  - What is the socioeconomic composition of neighorhoods from Google Street Maps images.\n"
   ]
  },
  {
   "cell_type": "markdown",
   "metadata": {
    "slideshow": {
     "slide_type": "slide"
    }
   },
   "source": [
    "## Why social scientists care (2)\n",
    "\n",
    "Implement a policy where identification of certain people is important.\n",
    "  - Identify poor people in a program for poverty alleviation.\n",
    "  - Identify people who are likely to survive a surgery before beginning one.\n",
    "\n",
    "Estimation procedures in causal identification (econometrics)\n",
    "- Some models rely on estimation\n",
    "  - Instrument variables in the first stage of 2SLS\n",
    "  - Propensity score matching  \n",
    "- Estimation procedures are often not systematic about estimating heterogeneous effects\n"
   ]
  },
  {
   "cell_type": "markdown",
   "metadata": {
    "slideshow": {
     "slide_type": "slide"
    }
   },
   "source": [
    "# Whether to use ML"
   ]
  },
  {
   "cell_type": "markdown",
   "metadata": {
    "slideshow": {
     "slide_type": "slide"
    }
   },
   "source": [
    "## When to use a model\n",
    "*When should I model data?*\n",
    "\n",
    "Look at your research question. You should use a model when:\n",
    "\n",
    "1) you try to explain or predict a certain variable, and;\n",
    "\n",
    "2) a conclusion cannot be made without a model.\n",
    "  - Example: the work on inequalit from 1900-now by Thommas Piketty\n",
    "  "
   ]
  },
  {
   "cell_type": "markdown",
   "metadata": {
    "slideshow": {
     "slide_type": "slide"
    }
   },
   "source": [
    "## When to use machine learning\n",
    "*Machine learning is powerful, when should I use it?*\n",
    "\n",
    "What is the goal?.\n",
    "\n",
    "\n",
    "- To make a formal test about model parameters.\n",
    "    - Use econometrics/OLS.\n",
    "- You want  a model with good performance.\n",
    "    - Use machine learning.    \n",
    "    - But can I still investigate partial effects of a variable? We can visualize it:      \n",
    "        - individual conditional expectation (ICE).\n",
    "        - partial dependence plots (PDP).\n"
   ]
  },
  {
   "cell_type": "markdown",
   "metadata": {
    "slideshow": {
     "slide_type": "slide"
    }
   },
   "source": [
    "# Determine model framework"
   ]
  },
  {
   "cell_type": "markdown",
   "metadata": {
    "slideshow": {
     "slide_type": "slide"
    }
   },
   "source": [
    "## Step A: What problem\n",
    "\n",
    "What kind of problem am I working on? My target is,\n",
    "- Continuous:\n",
    "  - We want to use a regression model\n",
    "  - We aim for a model with the least mean squared error (MSE).\n",
    "- Categorical / finite integers:\n",
    "  - We want to use a classification model\n",
    "  - We aim for a model with highest accuracy (ACC).\n"
   ]
  },
  {
   "cell_type": "markdown",
   "metadata": {
    "slideshow": {
     "slide_type": "slide"
    }
   },
   "source": [
    "## Step B: Which model\n",
    "Depending on the problem we pick a specific model. If regression, pick a model from:\n",
    "- A linear model (least squares, lasso, ridge)\n",
    "- Random forest\n",
    "\n",
    "If classification, choose from:\n",
    "- Random forest\n",
    "- Support vector machine\n",
    "- Logistic regression with regularization\n",
    "\n",
    "Note: You are welcome to try out other more complicated models but be sure to explain how the models works in your project."
   ]
  },
  {
   "cell_type": "markdown",
   "metadata": {
    "slideshow": {
     "slide_type": "slide"
    }
   },
   "source": [
    "\n",
    "## Step C: Determine hyperparameters\n",
    "What hyperparameters exist for the model I have chosen?\n",
    "  - Ridge/Lasso: $\\lambda$;\n",
    "  - Elastic net: $\\lambda_1$, $\\lambda_2$;\n",
    "  - Random forest: number of trees, max depth, max number of features, etc..\n",
    "  - SVM ..\n",
    "\n",
    "Note if we include unsupervised learning before the supervised learning, e.g. Principal Component Analysis or K-means, then the number of either components or clusters is also a hyperparameter."
   ]
  },
  {
   "cell_type": "markdown",
   "metadata": {
    "slideshow": {
     "slide_type": "slide"
    }
   },
   "source": [
    "\n",
    "# Applying supervised machine learning\n",
    "\n",
    "\n"
   ]
  },
  {
   "cell_type": "markdown",
   "metadata": {
    "slideshow": {
     "slide_type": "slide"
    }
   },
   "source": [
    "## Step 1: data split\n",
    "\n",
    "Split into test and development (train) data.\n",
    "- A normal split is 30 pct. for test and 70 pct. for train if you have ~ observations.\n",
    "- If you have more than 10,000 observations then use 20 pct. for test, 80 pct. for train.\n",
    "\n",
    "Polynomial transformation of features:\n",
    "  - This step is optional - only makes sense for linear and logistic models (e.g. lasso)"
   ]
  },
  {
   "cell_type": "markdown",
   "metadata": {
    "slideshow": {
     "slide_type": "slide"
    }
   },
   "source": [
    "\n",
    "## Step 2: model pipeline\n",
    "Construct a model building pipeline.\n",
    "- Preprocessing phase\n",
    "  - Unsupervised learning, e.g. principal components (optional)\n",
    "  - Variable scaling (optional, not relevant for random forest)\n",
    "- Supervised model (classification or regression)\n",
    "\n",
    "Note: It is optional on whether to use `make_pipeline`. We recommend using it as there will be fewer mistakes and contain less code."
   ]
  },
  {
   "cell_type": "markdown",
   "metadata": {
    "slideshow": {
     "slide_type": "slide"
    }
   },
   "source": [
    "\n",
    "## Step 3: model selection (1)\n",
    "\n",
    "Main idea:\n",
    "- We want to select the optimal model.\n",
    "- We measure model performance with out-of-sample prediction on validation data.\n",
    "\n",
    "Pick the model which performed the best on the validation data during cross validation."
   ]
  },
  {
   "cell_type": "markdown",
   "metadata": {
    "slideshow": {
     "slide_type": "slide"
    }
   },
   "source": [
    "## Step 3: model selection (2)\n",
    "\n",
    "Cross validation (CV):\n",
    "- We only use the training/development data.\n",
    "- We use 10 fold CV and split this data into 10 even sized validation bins.\n",
    "- For each validation bin:.\n",
    "  - We fit our model on the data outside the validation bin, i.e. in one of the remaining 9 bins..\n",
    "  - We transform and predict the target in the validation bin using our model.\n",
    "  - Note: we must perform our whole model building process and transformation in each fold.\n",
    "\n",
    "Finally we compute the mean across the 10 validation bins for each hyperparameter combination we are testing and pick the one that maximize out-of-sample performance.\n"
   ]
  },
  {
   "cell_type": "markdown",
   "metadata": {
    "slideshow": {
     "slide_type": "slide"
    }
   },
   "source": [
    "## Step 4: check list\n",
    "\n",
    "- Check that we NEVER fit our model building on validation data.\n",
    "- Check that test data has NEVER been used.\n",
    "- Ensure that model has converged (do not suppress warning)\n",
    "- Am I using a static model for time series?"
   ]
  },
  {
   "cell_type": "markdown",
   "metadata": {
    "slideshow": {
     "slide_type": "slide"
    }
   },
   "source": [
    "## Step 5: final model training and evaluation\n",
    "\n",
    "We train the model with the optimal hyperparameters on ALL the training/development data.\n",
    "\n",
    "Evaluate the model out-of-sample on the test set.\n"
   ]
  }
 ],
 "metadata": {
  "celltoolbar": "Slideshow",
  "kernelspec": {
   "display_name": "Python 3",
   "language": "python",
   "name": "python3"
  },
  "language_info": {
   "codemirror_mode": {
    "name": "ipython",
    "version": 3
   },
   "file_extension": ".py",
   "mimetype": "text/x-python",
   "name": "python",
   "nbconvert_exporter": "python",
   "pygments_lexer": "ipython3",
   "version": "3.5.5"
  }
 },
 "nbformat": 4,
 "nbformat_minor": 2
}
