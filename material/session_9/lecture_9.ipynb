{
 "cells": [
  {
   "cell_type": "markdown",
   "metadata": {
    "slideshow": {
     "slide_type": "slide"
    }
   },
   "source": [
    "# Session 9\n",
    "## Scraping 2 - Parsing\n",
    "*Snorre Ralund *"
   ]
  },
  {
   "cell_type": "markdown",
   "metadata": {
    "slideshow": {
     "slide_type": "subslide"
    }
   },
   "source": [
    "Yesterday I gave you some powerful tricks. Tricks that will work when the data is already shipped in a neat format. However this is not the rule. Today we shall learn the art of parsing unstructured text and a more principled and advanced method of parsing HTML.\n",
    "\n",
    "This will help you build ***custom datasets*** within just a few hours or days work, that would have taken ***months*** to curate and clean manually."
   ]
  },
  {
   "cell_type": "markdown",
   "metadata": {
    "slideshow": {
     "slide_type": "subslide"
    }
   },
   "source": [
    "## Agenda\n",
    "**Parsing and cleaning raw data** \n",
    "\n",
    "HTML\n",
    "* Understanding the basics of HTML syntax.\n",
    "* Traversing and Navigating HTML trees using BeautifulSoup. Examples include: \n",
    "    * Extracting Text from HTML, \n",
    "    * Extracting Tables, \n",
    "    * Parsing of \"unknown\" structures.\n",
    "_________________________\n",
    "Raw Text\n",
    "* Learning the of Regular Expressions for extracting patterns in strings. \n",
    "    * Very valuable when cleaning and validating data, and for information extraction from raw text.\n",
    "\n",
    "_________________________\n"
   ]
  },
  {
   "cell_type": "markdown",
   "metadata": {
    "slideshow": {
     "slide_type": "fragment"
    }
   },
   "source": [
    "# Sidestep: Interactions and Automated Browsing\n",
    "Sometimes scraping tasks demand interactions (e.g. login, scrolling, clicking), and a no XHR data can be found easily, so you need the browser to execute the scripts before you can get the data.\n",
    "\n",
    "Here we use the `Selenium` package in combination with the `geckodriver` - download the latest release [here](download the latest geckodriver here: https://github.com/mozilla/geckodriver/releases). It allows you to animate a browser. I won't go into detail here, but just wanted to mention it. \n",
    "\n",
    "Installation (and maintainance of compatability) can be a little tough, but instead of trawling through crazy stackoverflow threads about your Issue, my experience tells me that downloaded the latest release, and installing the latest selenium version is always the cure."
   ]
  },
  {
   "cell_type": "code",
   "execution_count": null,
   "metadata": {
    "slideshow": {
     "slide_type": "subslide"
    }
   },
   "outputs": [],
   "source": [
    "\n",
    "from selenium import webdriver\n",
    "## download the latest geckodriver here: https://github.com/mozilla/geckodriver/releases\n",
    "path2gecko = 'C:/Users/jbv933/Downloads/geckodriver-v0.21.0-win64/geckodriver.exe' # define path to your geckodriver\n",
    "browser = webdriver.Firefox(executable_path=path2gecko) # start the browser with a path to the geckodriver.\n",
    "browser.get('https://www.facebook.com') # opens a webpage using the browser objects get method.\n",
    "selector = '#email' # define selector to the email field\n",
    "element = browser.find_element_by_css_selector(sel) # find this element using the .find_element_by_css_selector method\n",
    "email = 'sdfsjsd@hotmail.com' # define email to be send to the field\n",
    "element.send_keys(email) # send the data\n",
    "selector = '#pass' # define the css selector to the password field\n",
    "element = browser.find_element_by_css_selector(sel) # find the element\n",
    "# send password\n",
    "login_sel = '#u_0_2' # define the selector to the login button\n",
    "element = browser.find_element_by_css_selector(sel) # find the element \n",
    "element.click() # click on the login button to send password and email."
   ]
  },
  {
   "cell_type": "markdown",
   "metadata": {
    "slideshow": {
     "slide_type": "slide"
    }
   },
   "source": [
    "## The HTML Tree\n",
    "HTML has a Tree structure. \n",
    "\n",
    "Each node in the tree has:\n",
    "        - Children, siblings, parents - descendants. \n",
    "        - Ids and attributes\n",
    "\n",
    "<img src=\"http://www.openbookproject.net/tutorials/getdown/css/images/lesson4/HTMLDOMTree.png\"/>\n"
   ]
  },
  {
   "cell_type": "markdown",
   "metadata": {
    "slideshow": {
     "slide_type": "slide"
    }
   },
   "source": [
    "## Important syntax and patterns\n",
    "_______________\n",
    "```html \n",
    "<p>The p tag indicates a paragraph <p/>\n",
    "```\n",
    "_______________\n",
    "```html \n",
    "<b>The b tag makes the text bold, giving us a clue to its importance <b/>\n",
    "```\n",
    "output: <b>The b tag makes the text bold, giving us a clue to its importance <b/>\n",
    "___________\n",
    "```html \n",
    "<h1>h1</h1><h2>h2</h2><h2>h3</h3><b>Headers give similar clues</b>\n",
    "```\n",
    "output:\n",
    "<h1>h1</h1><h2>h2</h2><h3>h3</h3><b>Headers give similar clues</b>\n",
    "_________________\n",
    "```html \n",
    "<a href=\"www.google.com\">The a tag creates a hyperlink <a/>\n",
    "```\n",
    "output: <a href=\"www.google.com\">The a tag creates a hyperlink <a/>\n",
    "_____________\n",
    "Finally you have the terrible and confusing iframe: \n",
    "```html\n",
    " <iframe src=\"https://www.google.com\"></iframe>\n",
    "```\n",
    "_________________"
   ]
  },
  {
   "cell_type": "markdown",
   "metadata": {
    "slideshow": {
     "slide_type": "subslide"
    }
   },
   "source": [
    "## How do we find our way around this tree?\n",
    "* extracting string patterns using .split and regular expresssions as we did yesterday.\n",
    "* Specifying paths using css-selectors,xpath syntax. \n",
    "* A more powerful and principled (+readable) way is to use the ```python``` module ```BeautifulSoup``` to parse and traverse the tree."
   ]
  },
  {
   "cell_type": "markdown",
   "metadata": {
    "slideshow": {
     "slide_type": "slide"
    }
   },
   "source": [
    "### Selectors \n",
    "Define a unique path to an element in the HTML tree.\n",
    "- quick but has to be hardcoded and also more likely to break.\n"
   ]
  },
  {
   "cell_type": "markdown",
   "metadata": {
    "slideshow": {
     "slide_type": "subslide"
    }
   },
   "source": [
    "## Parsing HTML with BeautifulSoup\n",
    "BeautifulSoup makes the html tree navigable. \n",
    "It allows you to:\n",
    "    * Search for elements by tag name and/or by attribute.\n",
    "    * Iterate through them, go up, sideways or down the tree.\n",
    "    * Furthermore it helps you with standard tasks such as extracting raw text from html,\n",
    "    which would be a very tedious task if you had to hardcode it using `.split` commands and using your own regular expressions will be unstable."
   ]
  },
  {
   "cell_type": "code",
   "execution_count": 15,
   "metadata": {
    "slideshow": {
     "slide_type": "subslide"
    }
   },
   "outputs": [],
   "source": [
    "# scraping newspaper articles example.\n",
    "url = 'https://www.theguardian.com/us-news/2018/aug/10/omarosa-trump-book-the-apprentice-memoir'\n",
    "import requests\n",
    "response = requests.get(url)\n",
    "html = response.text"
   ]
  },
  {
   "cell_type": "code",
   "execution_count": 16,
   "metadata": {
    "slideshow": {
     "slide_type": "subslide"
    }
   },
   "outputs": [],
   "source": [
    "from bs4 import BeautifulSoup\n",
    "soup = BeautifulSoup(html,'lxml') # parse the raw html using BeautifoulSoup"
   ]
  },
  {
   "cell_type": "code",
   "execution_count": 25,
   "metadata": {
    "slideshow": {
     "slide_type": "subslide"
    }
   },
   "outputs": [
    {
     "data": {
      "text/plain": [
       "['#maincontent',\n",
       " 'https://www.theguardian.com/preference/edition/int',\n",
       " 'https://www.theguardian.com/preference/edition/uk',\n",
       " 'https://www.theguardian.com/preference/edition/us',\n",
       " 'https://www.theguardian.com/preference/edition/au']"
      ]
     },
     "execution_count": 25,
     "metadata": {},
     "output_type": "execute_result"
    }
   ],
   "source": [
    "# extract hyperlinks\n",
    "links = soup.find_all('a') # find all a tags -connoting a hyperlink.\n",
    "link_tag = links[-10]\n",
    "link_tag['href']\n",
    "[link['href'] for link in links if link.has_attr('href')][0:5] # unpack the hyperlink from the a nodes."
   ]
  },
  {
   "cell_type": "code",
   "execution_count": 34,
   "metadata": {
    "slideshow": {
     "slide_type": "subslide"
    }
   },
   "outputs": [
    {
     "name": "stdout",
     "output_type": "stream",
     "text": [
      "{'content__headline': 'Omarosa says Trump is a racist who uses N-word –\\xa0and claims there is tape to prove it'}\n"
     ]
    }
   ],
   "source": [
    "headline = soup.find('h1') # search for the first headline: h1 tag. \n",
    "#headline.text.strip().replace('Trump','idiot')\n",
    "#headline\n",
    "name = headline['class'][0].strip() # use the class attribute name as column name.\n",
    "value = headline.text.strip() # extract text using build in method.\n",
    "print({name:value})"
   ]
  },
  {
   "cell_type": "code",
   "execution_count": 38,
   "metadata": {
    "slideshow": {
     "slide_type": "subslide"
    }
   },
   "outputs": [
    {
     "data": {
      "text/plain": [
       "\"\\nDonald Trump is a “racist” who has used the “N-word” repeatedly, Omarosa Manigault Newman, once the most prominent African American in the White House, claims in a searing memoir.\\nThe future US president was caught on mic uttering the taboo racial slur “multiple times” during the making of his reality TV show The Apprentice and there is a tape to prove it, according to Manigault Newman, citing three unnamed sources.\\nTrump has been haunted from around the time of his election in 2016 by allegations that outtakes from the reality TV show exist in which he is heard saying the N-word and using other offensive language.\\n\\n\\n\\nSign up to receive the top US stories every morning\\n\\n\\nIn her book, Unhinged, a copy of which was obtained by the Guardian ahead of its publication next week, the former Apprentice participant  insists that the reports are true, although she does not say she heard him use the word herself.\\nShe also claims that she personally witnessed Trump use racial epithets about the White House counselor Kellyanne Conway’s husband George Conway, who is half Filipino. “Would you look at this George Conway article?” she quotes the president as saying. “F**ing FLIP! Disloyal! Fucking Goo-goo.”\\nBoth flip and goo-goo are terms of racial abuse for Filipinos.\\nCritics have previously questioned Manigault Newman’s credibility and are likely to accuse her of seeking revenge against the administration after her abrupt dismissal last December.\\n\\n\\n\\n\\nAttack ads, lawsuits, insults and fights: Trump's charged history with race\\n\\n\\n\\n\\n\\n\\n \\n\\n\\nRead more\\n\\n\\n\\n\\n\\n\\nAt the time, she writes, she felt a “growing realization that Donald Trump was indeed a racist, a bigot and a misogynist. My certainty about the N-word tape and his frequent uses of that word were the top of a high mountain of truly appalling things I’d experienced with him, during the last two years in particular.”\\nRecalling her sudden and unceremonious departure, she writes: “It had finally sunk in that the person I’d thought I’d known so well for so long was actually a racist. Using the N-word was not just the way he talks but, more disturbing, it was how he thought of me and African Americans as a whole.”\\nTrump hosted NBC’s The Apprentice from 2004-2015 before running for the presidency and still likes to laud his high ratings.\\nHis insurgent election campaign was rocked in October 2016 by the release of an Access Hollywood tape in which he bragged about grabbing women “by the pussy”. The media firestorm prompted Bill Pruitt, a producer on the first two seasons of The Apprentice, to tweet that there were “far worse” tapes of Trump behind the scenes of the show.\\nFurther allegations emerged that Trump had used the N-word in the recordings. Then, following the New York property tycoon’s shocking victory over Hillary Clinton, the actor and comedian Tom Arnold claimed to have the video of Trump using racist language.\\n\\n\\n\\n\\n\\n\\n\\n\\n\\n\\n\\n\\n\\n\\n\\n\\n\\n \\n\\n\\n  \\n\\n \\n\\n\\n  Facebook \\n \\n\\n\\n  Twitter \\n \\n\\n\\n  Pinterest \\n\\n\\n\\n\\n\\n  The White House staffer Kellyanne Conway and former aides Hope Hicks and Omarosa Manigault Newman at a press briefing last year. Photograph: Alex Wong/Getty Images\\n\\n\\n“I have the outtakes to The Apprentice where he says every bad thing ever, every offensive, racist thing ever,” Arnold told the Seattle-based radio station KIRO. “It was him sitting in that chair saying the N-word, saying the C-word, calling his son a retard, just being so mean to his own children.”\\nBut Metro-Goldwyn-Mayer, which owns the rights to the reality TV show, and its British creator, Mark Burnett, have resisted pressure to release the footage because of “various contractual and legal requirements”.\\nOnce close to Trump, Manigault Newman was among his most high-profile supporters during the election campaign and drew a top salary of $179,700 as director of communications for the White House office of public liaison. She held her April 2017 wedding at Trump’s luxury hotel, close to the White House.\\nHers is the second memoir from a former Trump administration member, following that of the ex-press secretary Sean Spicer, but it was always expected to be less adulatory. This week the Daily Beast reported that she had secretly recorded conversations with the president and “leveraged” this while seeking a book deal. On Sunday she is due to appear on NBC’s flagship political show Meet the Press.\\nSome commentators have struck a note of scepticism about her book. Brian Stelter, senior media correspondent at CNN, wrote in an email newsletter: “Is former ‘Apprentice’ star Omarosa Manigault-Newman a reliable source of info about the Trump White House? Buckle up for debates about that in the coming week. Because she’s about to betray Trump in a new tell-all book.”\\nFor its part, the White House has previously dismissed criticisms from her. In February the deputy press secretary, Raj Shah, said: “Omarosa was fired three times on The Apprentice and this was the fourth time we let her go. She had limited contact with the president while here. She has no contact now.”\\nIn the book, she recalls how in late 2016 Trump’s team held a conference call and scrambled for how to respond to the tape but it never came out. Then a source from The Apprentice contacted her and claimed to be in possession of it. Trump was in office and Manigault Newman continued to investigate.\\nShe continues: “By that point, three sources in three separate conversations had described the contents of this tape. They all told me that President Trump hadn’t just dropped a single N-word bomb. He’d said it multiple times throughout the show’s taping during off-camera outtakes, particularly during the first season of The Apprentice.”\\nRecalling that she appeared on the first season, Manigault Newman reflects: “I would look like the biggest imbecile alive for supporting a man who used that word.” She says she confided in the former White House communications director Hope Hicks, who said, “I need to hear it for myself,” and continued to ask her frequently about what progress she was making.\\nShe believes that Hicks told the White House chief of staff, John Kelly, that Omarosa was close to getting her hands on the tape, and this gave him cause to terminate her job, though he found a different pretext.\\nFour months after her departure, she spoke by phone to one of her Apprentice sources. “I was told exactly what Donald Trump said – yes, the N-word and others in a classic Trump-goes-nuclear rant – and when he’s said them. During production he was miked, and there is definitely an audio track.”\\nManigault Newman also recalls her interactions with Trump during the filming of The Celebrity Apprentice in late 2007 – a time when the little known Democrat Barack Obama was in the ascendent. “During boardroom outtakes, Donald talked about Obama often. He hated him. He never explained why, but now I believe it was because Obama was black.”\\n\\n\\n\\n\\nFormer Apprentice star on leaving Trump's White House: 'I've seen things that made me uncomfortable'\\n\\n\\n\\n\\n\\n\\n \\n\\n\\nRead more\\n\\n\\n\\n\\n\\n\\nIn January, Trump was widely condemned for reportedly dismissing Haiti, El Salvador and African nations as “shitholes”. Manigault Newman describes a similar experience that appears to support that account. When she told Trump that she was going to Haiti, she writes, he demanded: “Why did you choose that shitty country as your first foreign trip?”\\nHe added: “You should have waited until the confirmations were done and gone to Scotland and played golf at [his course] Turnberry.”\\nIn another damning passage, she describes his “broken outlook” and how “the bricks in his racist wall kept getting higher”, wondering if he did “want to start a race war”. She adds: “The only other explanation was that his mental state was so deteriorated that the filter between the worst impulses of his mind and his mouth were completely gone.”\\nThe book comes days after Trump faced renewed allegations of racism over his persistent descriptions of the congresswoman Maxine Waters as having a “low IQ” and CNN journalist Don Lemon as “the dumbest man on television”, as well as criticism of the basketball star LeBron James. This weekend marks the first anniversary of the white supremacist march in Charlottesville, Virginia, that erupted in deadly violence; the president claimed there were “very fine people on both sides”.\\nElsewhere in Unhinged, published by Gallery Books, an imprint of Simon & Schuster, Manigault Newman takes aim at Trump’s sexism. Recalling more outtakes from The Apprentice, she says he asked personal questions about female contestants such as “What do you think she’s like in bed?” and “Do you think she’s sexy?” He allegedly asked male contestants: “Who you think would be better in bed between the two of them?”\\nAsked about the allegations in Manigault Newman’s book, White House press secretary Sarah Sanders said: “Instead of telling the truth about all the good President Trump and his administration are doing to make America safe and prosperous, this book is riddled with lies and false accusations. \\n“It’s sad that a disgruntled former White House employee is trying to profit off these false attacks, and even worse that the media would now give her a platform, after not taking her seriously when she had only positive things to say about the president during her time in the administration.”\\n\\n\\nTopics\\n\\n\\n\\n\\nDonald Trump\\n\\n\\n\\n\\n\\n\\n\\n\\nUS politics\\n\\n\\n\\n\\nRace issues\\n\\n\\n\\n\\nTrump administration\\n\\n\\n\\n\\nOmarosa Manigault Newman\\n\\n\\n\\n\\nnews\\n\\n\\n\\n\\n\\n\\n\\n\\nShare on Facebook\\n\\n\\n\\n\\n\\n\\n\\n\\n\\nShare on Twitter\\n\\n\\n\\n\\n\\n\\n\\n\\n\\nShare via Email\\n\\n\\n\\n\\n\\n\\n\\n\\n\\nShare on LinkedIn\\n\\n\\n\\n\\n\\n\\n\\n\\n\\nShare on Pinterest\\n\\n\\n\\n\\n\\n\\n\\n\\n\\nShare on Google+\\n\\n\\n\\n\\n\\n\\n\\n\\n\\nShare on WhatsApp\\n\\n\\n\\n\\n\\n\\n\\n\\n\\nShare on Messenger\\n\\n\\n\\n\\n\\n\\n\\n\\n\\n\\n\\n\\n\\nReuse this content\\n\\n\\n\\n\\n\\n\""
      ]
     },
     "execution_count": 38,
     "metadata": {},
     "output_type": "execute_result"
    }
   ],
   "source": [
    "article_text = soup.find('div',{'class':'content__article-body from-content-api js-article__body'})#.text # find the content.\n",
    "article_text.text\n",
    "#article_text.find_all('p')"
   ]
  },
  {
   "cell_type": "markdown",
   "metadata": {
    "slideshow": {
     "slide_type": "subslide"
    }
   },
   "source": [
    "Say we are interested in how articles cite sources to back up their story i.e. their hyperlink behaviour within the article, and we want to see if the media has changed their behaviour.\n",
    "\n",
    "We know how to search for links. But the cool part is that we can search from anywhere in the HTML tree. This means that once we have located the article content node - as above - we can search from there. This results in hyperlinks used within the article text.\n"
   ]
  },
  {
   "cell_type": "code",
   "execution_count": 321,
   "metadata": {
    "slideshow": {
     "slide_type": "subslide"
    }
   },
   "outputs": [],
   "source": [
    "# find the article_content node\n",
    "article_content = soup.find('div',{'class':'content__article-body from-content-api js-article__body'})\n",
    "# find citations within the article content.\n",
    "citations = article_content.find_all('a')"
   ]
  },
  {
   "cell_type": "code",
   "execution_count": 325,
   "metadata": {
    "slideshow": {
     "slide_type": "subslide"
    }
   },
   "outputs": [],
   "source": [
    "citation_links = [] # define container to the hyperlinks\n",
    "for citation in citations: # iterate through each citation node\n",
    "    if citation.has_attr('data-link-name'): # check if it has the right attribute\n",
    "        if citation['data-link-name'] =='in body link': # and if the value of that attribute is correct\n",
    "            #print(citation['href'])\n",
    "            citation_links.append(citation['href']) #  add link to the container"
   ]
  },
  {
   "cell_type": "markdown",
   "metadata": {
    "slideshow": {
     "slide_type": "subslide"
    }
   },
   "source": [
    "## Scraping without hardcoding every element to collect.  \n",
    "### Hands-on example: Continuing the Cryptomarket scrape. \n",
    "When scraping a large and diverse website or even crawling many different, it can be useful to design more generic parsing schemes, were you haven't seen all elements you want to keep before hand. In the following example I demonstrate a simple example of this.\n",
    "\n",
    "Imagine we wanted data on the Cryptomarkets:\n",
    "* Go to the front page of a [Cryptomarket page](https://coinmarketcap.com). Looking in the **>Network Monitor<** we find a XHR file (helping their search function) containing links to Cryptocoin. Now we have the link to each page we want to visit. \n",
    "\n",
    "Visit this example: http://coinmarketcap.com/currencies/ethereum/\n",
    "\n",
    "Yesterday we saw how to find the XHR file with the underlying data behind the Chart. Now we want all the metadata displayed. \n",
    "\n",
    "Using the inspector we find that the information we want is located by a node tagged with `ul` - *\"unordered list\"* tag - with the defining class attribute *'list-unstyled details-panel-item--links'*. And the information is located in the `li` tag *\"list item\"*.\n",
    "\n",
    "First we locate this node using the `find` method. \n"
   ]
  },
  {
   "cell_type": "code",
   "execution_count": 216,
   "metadata": {
    "slideshow": {
     "slide_type": "subslide"
    }
   },
   "outputs": [],
   "source": [
    "url = 'https://coinmarketcap.com/currencies/ethereum/' # define the example url\n",
    "response = requests.get(url) # \n",
    "soup = BeautifulSoup(response.text,'lxml') # parse the HTML"
   ]
  },
  {
   "cell_type": "code",
   "execution_count": 221,
   "metadata": {
    "slideshow": {
     "slide_type": "subslide"
    }
   },
   "outputs": [],
   "source": [
    "list_node = soup.find('ul',{'class':'list-unstyled details-panel-item--links'}) # search for the ul node"
   ]
  },
  {
   "cell_type": "markdown",
   "metadata": {
    "slideshow": {
     "slide_type": "subslide"
    }
   },
   "source": [
    "Now starting from this list_node, we can search for each list item - li node, using the find_all method."
   ]
  },
  {
   "cell_type": "code",
   "execution_count": 326,
   "metadata": {
    "slideshow": {
     "slide_type": "subslide"
    }
   },
   "outputs": [],
   "source": [
    "list_items = list_node.find_all('li') # search for all list elements children of the list_node "
   ]
  },
  {
   "cell_type": "markdown",
   "metadata": {
    "slideshow": {
     "slide_type": "subslide"
    }
   },
   "source": [
    "From this we extract the information. Without having to hardcode all extractions we exploit that each html node has a attribute ('title'). We can therefore just loop through each node, extracting the title attribute and the text. ***-- This furthermore allows us to scrape content we did not know was there.***\n",
    "\n",
    "We use the title as the key in the dictionary. The value we are interested in two things, either the *hyperlink*, or the the *text* on display."
   ]
  },
  {
   "cell_type": "code",
   "execution_count": 249,
   "metadata": {
    "slideshow": {
     "slide_type": "subslide"
    }
   },
   "outputs": [
    {
     "data": {
      "text/plain": [
       "{'Announcement': 'https://bitcointalk.org/index.php?topic=428589.0',\n",
       " 'Chat': 'https://gitter.im/orgs/ethereum/rooms',\n",
       " 'Explorer': 'https://etherchain.org/',\n",
       " 'Message Board': 'https://forum.ethereum.org/',\n",
       " 'Rank': 'Rank 2',\n",
       " 'Source Code': 'https://github.com/ethereum',\n",
       " 'Tags': 'Coin\\nMineable',\n",
       " 'Website': 'https://www.ethereum.org/'}"
      ]
     },
     "execution_count": 249,
     "metadata": {},
     "output_type": "execute_result"
    }
   ],
   "source": [
    "d = {} # defining our container\n",
    "for list_item in list_items:\n",
    "    key = list_item.span['title'] # attributes of a node can be fetched with dictionary-like syntax.\n",
    "    if list_item.a!=None: # check if the node has a hyperlink.\n",
    "        value = list_item.a['href'] # list_item.a ==list_item.find('a') returns the first node found.\n",
    "    else:\n",
    "        value = list_item.text.strip()\n",
    "    d[key] = value\n",
    "d"
   ]
  },
  {
   "cell_type": "code",
   "execution_count": 280,
   "metadata": {
    "slideshow": {
     "slide_type": "subslide"
    }
   },
   "outputs": [
    {
     "data": {
      "text/plain": [
       "'ethereum'"
      ]
     },
     "execution_count": 280,
     "metadata": {},
     "output_type": "execute_result"
    }
   ],
   "source": [
    "\n",
    "\n",
    "d['Source Code'],d['Source Code'].split('/')[-1]\n"
   ]
  },
  {
   "cell_type": "markdown",
   "metadata": {
    "slideshow": {
     "slide_type": "slide"
    }
   },
   "source": [
    "# ERC example\n",
    "Imagine we wanted to analyze whether the European funding behaviour was biased towards certain countries and gender. We might decide to scrape who has received funding from the ERC. \n",
    "\n",
    "* First we figure find navigate the grant listings.\n",
    "* Next we figure out how to page these results. \n",
    "* And finally we want to grab the information.\n"
   ]
  },
  {
   "cell_type": "code",
   "execution_count": 2,
   "metadata": {
    "slideshow": {
     "slide_type": "subslide"
    }
   },
   "outputs": [],
   "source": [
    "import requests\n",
    "url = 'https://erc.europa.eu/projects-figures/erc-funded-projects/results?items_per_page=100&f[0]=funding_scheme%3AConsolidator%20Grant%20(CoG)'\n",
    "response = requests.get(url)"
   ]
  },
  {
   "cell_type": "code",
   "execution_count": 166,
   "metadata": {
    "slideshow": {
     "slide_type": "subslide"
    }
   },
   "outputs": [],
   "source": [
    "from bs4 import BeautifulSoup\n",
    "import bs4\n",
    "soup = BeautifulSoup(response.text,'lxml')"
   ]
  },
  {
   "cell_type": "markdown",
   "metadata": {
    "slideshow": {
     "slide_type": "subslide"
    }
   },
   "source": [
    "You can search for nodes through their Tag, attribute, or "
   ]
  },
  {
   "cell_type": "code",
   "execution_count": 22,
   "metadata": {
    "slideshow": {
     "slide_type": "subslide"
    }
   },
   "outputs": [],
   "source": [
    "result_list = soup.find('div',{'class':'view-content'}) # find elements using tag name and class attribute"
   ]
  },
  {
   "cell_type": "code",
   "execution_count": 206,
   "metadata": {
    "slideshow": {
     "slide_type": "subslide"
    }
   },
   "outputs": [
    {
     "name": "stdout",
     "output_type": "stream",
     "text": [
      "Max ERC Funding Max ERC Funding \n",
      "1 999 172 €\n",
      "\n",
      "Duration Duration \n",
      "Start date: 2014-04-01, End date: 2019-03-31\n",
      "\n"
     ]
    }
   ],
   "source": [
    "\n",
    "datapoint = {}\n",
    "for child2 in child.children:\n",
    "    if type(child2)==bs4.NavigableString:\n",
    "        continue\n",
    "    spans = child2.findAll('span')\n",
    "    \n",
    "    if len(spans)==2:\n",
    "        key,value = spans\n",
    "    else:\n",
    "        key,value = [i for i in list(child2.find('span').children) if not type(i)==bs4.NavigableString]\n",
    "    datapoint[key.text] = value.text\n",
    "    # Finding unknown titles using the strong tag as a clue.\n",
    "    strong = child2.findAll('strong')\n",
    "    if len(strong)>0:\n",
    "        for node in strong:\n",
    "            key = node.text\n",
    "            value = str(node.next.next)\n",
    "            print(key,node.next,value)\n",
    "    #break\n",
    "    \n",
    "    "
   ]
  },
  {
   "cell_type": "markdown",
   "metadata": {
    "slideshow": {
     "slide_type": "slide"
    }
   },
   "source": [
    "# Extracting patterns from Raw Text"
   ]
  },
  {
   "cell_type": "markdown",
   "metadata": {
    "slideshow": {
     "slide_type": "fragment"
    }
   },
   "source": [
    "of course you already now your basic string operations:\n",
    "\n",
    "`string.split\n",
    "string.strip\n",
    "string.replace`\n",
    "\n",
    "And sometimes this will be enough, but sometimes it is not."
   ]
  },
  {
   "cell_type": "markdown",
   "metadata": {
    "slideshow": {
     "slide_type": "slide"
    }
   },
   "source": [
    "# Regular Expressions\n",
    "![](https://cdn-images-1.medium.com/max/800/0*j1f-EFL7TDtf6K0o.jpg)"
   ]
  },
  {
   "cell_type": "markdown",
   "metadata": {
    "slideshow": {
     "slide_type": "subslide"
    }
   },
   "source": [
    "Regex can be a little terrifying:\n",
    "\n",
    "`pattern = '(?:(?:\\r\\n)?[ \\t])*(?:(?:(?:[^()<>@,;:\\\\\".\\[\\] \\000-\\031]+(?:(?:(?:\\r\\n)?[ \\t])+|\\Z|(?=[\\[\"()<>@,;:\\\\\".\\[\\]]))|\"(?:[^\\\"\\r\\\\]|\\\\.|(?:(?:\\r\\n)?[ \\t]))*\"(?:(?:\\r\\n)?[ \\t])*)(?:\\.(?:(?:\\r\\n)?[ \\t])*(?:[^()<>@,;:\\\\\".\\[\\] \\000-\\031]+(?:(?:(?:\\r\\n)?[ \\t])+|\\Z|(?=[\\[\"()<>@,;:\\\\\".\\[\\]]))|\"(?:[^\\\"\\r\\\\]|\\\\.|(?:(?:\\r\\n)?[ \\t]))*\"(?:(?:\\r\\n)?[ \\t])*))*@(?:(?:\\r\\n)?[ \\t])*(?:[^()<>@,;:\\\\\".\\[\\] \\000-\\031]+(?:(?:(?:\\r\\n)?[ \\t])+|\\Z|(?=[\\[\"()<>@,;:\\\\\".\\[\\]]))|\\[([^\\[\\]\\r\\\\]|\\\\.)*\\](?:(?:\\r\\n)?[ \\t])*)(?:\\.(?:(?:\\r\\n)?[ \\t])*(?:[^()<>@,;:\\\\\".\\[\\] \\000-\\031]+(?:(?:(?:\\r\\n)?[ \\t])+|\\Z|(?=[\\[\"()<>@,;:\\\\\".\\[\\]]))|\\[([^\\[\\]\\r\\\\]|\\\\.)*\\](?:(?:\\r\\n)?[ \\t])*))*|(?:[^()<>@,;:\\\\\".\\[\\] \\000-\\031]+(?:(?:(?:\\r\\n)?[ \\t])+|\\Z|(?=[\\[\"()<>@,;:\\\\\".\\[\\]]))|\"(?:[^\\\"\\r\\\\]|\\\\.|(?:(?:\\r\\n)?[ \\t]))*\"(?:(?:\\r\\n)?[ \\t])*)*\\<(?:(?:\\r\\n)?[ \\t])*(?:@(?:[^()<>@,;:\\\\\".\\[\\] \\000-\\031]+(?:(?:(?:\\r\\n)?[ \\t])+|\\Z|(?=[\\[\"()<>@,;:\\\\\".\\[\\]]))|\\[([^\\[\\]\\r\\\\]|\\\\.)*\\](?:(?:\\r\\n)?[ \\t])*)(?:\\.(?:(?:\\r\\n)?[ \\t])*(?:[^()<>@,;:\\\\\".\\[\\] \\000-\\031]+(?:(?:(?:\\r\\n)?[ \\t])+|\\Z|(?=[\\[\"()<>@,;:\\\\\".\\[\\]]))|\\[([^\\[\\]\\r\\\\]|\\\\.)*\\](?:(?:\\r\\n)?[ \\t])*))*(?:,@(?:(?:\\r\\n)?[ \\t])*(?:[^()<>@,;:\\\\\".\\[\\] \\000-\\031]+(?:(?:(?:\\r\\n)?[ \\t])+|\\Z|(?=[\\[\"()<>@,;:\\\\\".\\[\\]]))|\\[([^\\[\\]\\r\\\\]|\\\\.)*\\](?:(?:\\r\\n)?[ \\t])*)(?:\\.(?:(?:\\r\\n)?[ \\t])*(?:[^()<>@,;:\\\\\".\\[\\] \\000-\\031]+(?:(?:(?:\\r\\n)?[ \\t])+|\\Z|(?=[\\[\"()<>@,;:\\\\\".\\[\\]]))|\\[([^\\[\\]\\r\\\\]|\\\\.)*\\](?:(?:\\r\\n)?[ \\t])*))*)*:(?:(?:\\r\\n)?[ \\t])*)?(?:[^()<>@,;:\\\\\".\\[\\] \\000-\\031]+(?:(?:(?:\\r\\n)?[ \\t])+|\\Z|(?=[\\[\"()<>@,;:\\\\\".\\[\\]]))|\"(?:[^\\\"\\r\\\\]|\\\\.|(?:(?:\\r\\n)?[ \\t]))*\"(?:(?:\\r\\n)?[ \\t])*)(?:\\.(?:(?:\\r\\n)?[ \\t])*(?:[^()<>@,;:\\\\\".\\[\\] \\000-\\031]+(?:(?:(?:\\r\\n)?[ \\t])+|\\Z|(?=[\\[\"()<>@,;:\\\\\".\\[\\]]))|\"(?:[^\\\"\\r\\\\]|\\\\.|(?:(?:\\r\\n)?[ \\t]))*\"(?:(?:\\r\\n)?[ \\t])*))*@(?:(?:\\r\\n)?[ \\t])*(?:[^()<>@,;:\\\\\".\\[\\] \\000-\\031]+(?:(?:(?:\\r\\n)?[ \\t])+|\\Z|(?=[\\[\"()<>@,;:\\\\\".\\[\\]]))|\\[([^\\[\\]\\r\\\\]|\\\\.)*\\](?:(?:\\r\\n)?[ \\t])*)(?:\\.(?:(?:\\r\\n)?[ \\t])*(?:[^()<>@,;:\\\\\".\\[\\] \\000-\\031]+(?:(?:(?:\\r\\n)?[ \\t])+|\\Z|(?=[\\[\"()<>@,;:\\\\\".\\[\\]]))|\\[([^\\[\\]\\r\\\\]|\\\\.)*\\](?:(?:\\r\\n)?[ \\t])*))*\\>(?:(?:\\r\\n)?[ \\t])*)|(?:[^()<>@,;:\\\\\".\\[\\] \\000-\\031]+(?:(?:(?:\\r\\n)?[ \\t])+|\\Z|(?=[\\[\"()<>@,;:\\\\\".\\[\\]]))|\"(?:[^\\\"\\r\\\\]|\\\\.|(?:(?:\\r\\n)?[ \\t]))*\"(?:(?:\\r\\n)?[ \\t])*)*:(?:(?:\\r\\n)?[ \\t])*(?:(?:(?:[^()<>@,;:\\\\\".\\[\\] \\000-\\031]+(?:(?:(?:\\r\\n)?[ \\t])+|\\Z|(?=[\\[\"()<>@,;:\\\\\".\\[\\]]))|\"(?:[^\\\"\\r\\\\]|\\\\.|(?:(?:\\r\\n)?[ \\t]))*\"(?:(?:\\r\\n)?[ \\t])*)(?:\\.(?:(?:\\r\\n)?[ \\t])*(?:[^()<>@,;:\\\\\".\\[\\] \\000-\\031]+(?:(?:(?:\\r\\n)?[ \\t])+|\\Z|(?=[\\[\"()<>@,;:\\\\\".\\[\\]]))|\"(?:[^\\\"\\r\\\\]|\\\\.|(?:(?:\\r\\n)?[ \\t]))*\"(?:(?:\\r\\n)?[ \\t])*))*@(?:(?:\\r\\n)?[ \\t])*(?:[^()<>@,;:\\\\\".\\[\\] \\000-\\031]+(?:(?:(?:\\r\\n)?[ \\t])+|\\Z|(?=[\\[\"()<>@,;:\\\\\".\\[\\]]))|\\[([^\\[\\]\\r\\\\]|\\\\.)*\\](?:(?:\\r\\n)?[ \\t])*)(?:\\.(?:(?:\\r\\n)?[ \\t])*(?:[^()<>@,;:\\\\\".\\[\\] \\000-\\031]+(?:(?:(?:\\r\\n)?[ \\t])+|\\Z|(?=[\\[\"()<>@,;:\\\\\".\\[\\]]))|\\[([^\\[\\]\\r\\\\]|\\\\.)*\\](?:(?:\\r\\n)?[ \\t])*))*|(?:[^()<>@,;:\\\\\".\\[\\] \\000-\\031]+(?:(?:(?:\\r\\n)?[ \\t])+|\\Z|(?=[\\[\"()<>@,;:\\\\\".\\[\\]]))|\"(?:[^\\\"\\r\\\\]|\\\\.|(?:(?:\\r\\n)?[ \\t]))*\"(?:(?:\\r\\n)?[ \\t])*)*\\<(?:(?:\\r\\n)?[ \\t])*(?:@(?:[^()<>@,;:\\\\\".\\[\\] \\000-\\031]+(?:(?:(?:\\r\\n)?[ \\t])+|\\Z|(?=[\\[\"()<>@,;:\\\\\".\\[\\]]))|\\[([^\\[\\]\\r\\\\]|\\\\.)*\\](?:(?:\\r\\n)?[ \\t])*)(?:\\.(?:(?:\\r\\n)?[ \\t])*(?:[^()<>@,;:\\\\\".\\[\\] \\000-\\031]+(?:(?:(?:\\r\\n)?[ \\t])+|\\Z|(?=[\\[\"()<>@,;:\\\\\".\\[\\]]))|\\[([^\\[\\]\\r\\\\]|\\\\.)*\\](?:(?:\\r\\n)?[ \\t])*))*(?:,@(?:(?:\\r\\n)?[ \\t])*(?:[^()<>@,;:\\\\\".\\[\\] \\000-\\031]+(?:(?:(?:\\r\\n)?[ \\t])+|\\Z|(?=[\\[\"()<>@,;:\\\\\".\\[\\]]))|\\[([^\\[\\]\\r\\\\]|\\\\.)*\\](?:(?:\\r\\n)?[ \\t])*)(?:\\.(?:(?:\\r\\n)?[ \\t])*(?:[^()<>@,;:\\\\\".\\[\\] \\000-\\031]+(?:(?:(?:\\r\\n)?[ \\t])+|\\Z|(?=[\\[\"()<>@,;:\\\\\".\\[\\]]))|\\[([^\\[\\]\\r\\\\]|\\\\.)*\\](?:(?:\\r\\n)?[ \\t])*))*)*:(?:(?:\\r\\n)?[ \\t])*)?(?:[^()<>@,;:\\\\\".\\[\\] \\000-\\031]+(?:(?:(?:\\r\\n)?[ \\t])+|\\Z|(?=[\\[\"()<>@,;:\\\\\".\\[\\]]))|\"(?:[^\\\"\\r\\\\]|\\\\.|(?:(?:\\r\\n)?[ \\t]))*\"(?:(?:\\r\\n)?[ \\t])*)(?:\\.(?:(?:\\r\\n)?[ \\t])*(?:[^()<>@,;:\\\\\".\\[\\] \\000-\\031]+(?:(?:(?:\\r\\n)?[ \\t])+|\\Z|(?=[\\[\"()<>@,;:\\\\\".\\[\\]]))|\"(?:[^\\\"\\r\\\\]|\\\\.|(?:(?:\\r\\n)?[ \\t]))*\"(?:(?:\\r\\n)?[ \\t])*))*@(?:(?:\\r\\n)?[ \\t])*(?:[^()<>@,;:\\\\\".\\[\\] \\000-\\031]+(?:(?:(?:\\r\\n)?[ \\t])+|\\Z|(?=[\\[\"()<>@,;:\\\\\".\\[\\]]))|\\[([^\\[\\]\\r\\\\]|\\\\.)*\\](?:(?:\\r\\n)?[ \\t])*)(?:\\.(?:(?:\\r\\n)?[ \\t])*(?:[^()<>@,;:\\\\\".\\[\\] \\000-\\031]+(?:(?:(?:\\r\\n)?[ \\t])+|\\Z|(?=[\\[\"()<>@,;:\\\\\".\\[\\]]))|\\[([^\\[\\]\\r\\\\]|\\\\.)*\\](?:(?:\\r\\n)?[ \\t])*))*\\>(?:(?:\\r\\n)?[ \\t])*)(?:,\\s*(?:(?:[^()<>@,;:\\\\\".\\[\\] \\000-\\031]+(?:(?:(?:\\r\\n)?[ \\t])+|\\Z|(?=[\\[\"()<>@,;:\\\\\".\\[\\]]))|\"(?:[^\\\"\\r\\\\]|\\\\.|(?:(?:\\r\\n)?[ \\t]))*\"(?:(?:\\r\\n)?[ \\t])*)(?:\\.(?:(?:\\r\\n)?[ \\t])*(?:[^()<>@,;:\\\\\".\\[\\] \\000-\\031]+(?:(?:(?:\\r\\n)?[ \\t])+|\\Z|(?=[\\[\"()<>@,;:\\\\\".\\[\\]]))|\"(?:[^\\\"\\r\\\\]|\\\\.|(?:(?:\\r\\n)?[ \\t]))*\"(?:(?:\\r\\n)?[ \\t])*))*@(?:(?:\\r\\n)?[ \\t])*(?:[^()<>@,;:\\\\\".\\[\\] \\000-\\031]+(?:(?:(?:\\r\\n)?[ \\t])+|\\Z|(?=[\\[\"()<>@,;:\\\\\".\\[\\]]))|\\[([^\\[\\]\\r\\\\]|\\\\.)*\\](?:(?:\\r\\n)?[ \\t])*)(?:\\.(?:(?:\\r\\n)?[ \\t])*(?:[^()<>@,;:\\\\\".\\[\\] \\000-\\031]+(?:(?:(?:\\r\\n)?[ \\t])+|\\Z|(?=[\\[\"()<>@,;:\\\\\".\\[\\]]))|\\[([^\\[\\]\\r\\\\]|\\\\.)*\\](?:(?:\\r\\n)?[ \\t])*))*|(?:[^()<>@,;:\\\\\".\\[\\] \\000-\\031]+(?:(?:(?:\\r\\n)?[ \\t])+|\\Z|(?=[\\[\"()<>@,;:\\\\\".\\[\\]]))|\"(?:[^\\\"\\r\\\\]|\\\\.|(?:(?:\\r\\n)?[ \\t]))*\"(?:(?:\\r\\n)?[ \\t])*)*\\<(?:(?:\\r\\n)?[ \\t])*(?:@(?:[^()<>@,;:\\\\\".\\[\\] \\000-\\031]+(?:(?:(?:\\r\\n)?[ \\t])+|\\Z|(?=[\\[\"()<>@,;:\\\\\".\\[\\]]))|\\[([^\\[\\]\\r\\\\]|\\\\.)*\\](?:(?:\\r\\n)?[ \\t])*)(?:\\.(?:(?:\\r\\n)?[ \\t])*(?:[^()<>@,;:\\\\\".\\[\\] \\000-\\031]+(?:(?:(?:\\r\\n)?[ \\t])+|\\Z|(?=[\\[\"()<>@,;:\\\\\".\\[\\]]))|\\[([^\\[\\]\\r\\\\]|\\\\.)*\\](?:(?:\\r\\n)?[ \\t])*))*(?:,@(?:(?:\\r\\n)?[ \\t])*(?:[^()<>@,;:\\\\\".\\[\\] \\000-\\031]+(?:(?:(?:\\r\\n)?[ \\t])+|\\Z|(?=[\\[\"()<>@,;:\\\\\".\\[\\]]))|\\[([^\\[\\]\\r\\\\]|\\\\.)*\\](?:(?:\\r\\n)?[ \\t])*)(?:\\.(?:(?:\\r\\n)?[ \\t])*(?:[^()<>@,;:\\\\\".\\[\\] \\000-\\031]+(?:(?:(?:\\r\\n)?[ \\t])+|\\Z|(?=[\\[\"()<>@,;:\\\\\".\\[\\]]))|\\[([^\\[\\]\\r\\\\]|\\\\.)*\\](?:(?:\\r\\n)?[ \\t])*))*)*:(?:(?:\\r\\n)?[ \\t])*)?(?:[^()<>@,;:\\\\\".\\[\\] \\000-\\031]+(?:(?:(?:\\r\\n)?[ \\t])+|\\Z|(?=[\\[\"()<>@,;:\\\\\".\\[\\]]))|\"(?:[^\\\"\\r\\\\]|\\\\.|(?:(?:\\r\\n)?[ \\t]))*\"(?:(?:\\r\\n)?[ \\t])*)(?:\\.(?:(?:\\r\\n)?[ \\t])*(?:[^()<>@,;:\\\\\".\\[\\] \\000-\\031]+(?:(?:(?:\\r\\n)?[ \\t])+|\\Z|(?=[\\[\"()<>@,;:\\\\\".\\[\\]]))|\"(?:[^\\\"\\r\\\\]|\\\\.|(?:(?:\\r\\n)?[ \\t]))*\"(?:(?:\\r\\n)?[ \\t])*))*@(?:(?:\\r\\n)?[ \\t])*(?:[^()<>@,;:\\\\\".\\[\\] \\000-\\031]+(?:(?:(?:\\r\\n)?[ \\t])+|\\Z|(?=[\\[\"()<>@,;:\\\\\".\\[\\]]))|\\[([^\\[\\]\\r\\\\]|\\\\.)*\\](?:(?:\\r\\n)?[ \\t])*)(?:\\.(?:(?:\\r\\n)?[ \\t])*(?:[^()<>@,;:\\\\\".\\[\\] \\000-\\031]+(?:(?:(?:\\r\\n)?[ \\t])+|\\Z|(?=[\\[\"()<>@,;:\\\\\".\\[\\]]))|\\[([^\\[\\]\\r\\\\]|\\\\.)*\\](?:(?:\\r\\n)?[ \\t])*))*\\>(?:(?:\\r\\n)?[ \\t])*))*)?;\\s*)'`\n"
   ]
  },
  {
   "cell_type": "markdown",
   "metadata": {
    "slideshow": {
     "slide_type": "subslide"
    }
   },
   "source": [
    "However creating regular expressions is also fun, fun as in Suduko, and it is extremely valuable when working with any kind of text: e.g. Automating otherwise tedious manual tasks when cleaning a data set, searching, extracting and substituting specific patterns.\n",
    "\n",
    "Examples could be: \n",
    "- Extract currency and amount from raw text: $ 20, 10.000 dollars 10,000 £\n",
    "- email addresses: here you want to design a pattern (as above), that captures only the uses of @ within an email.\n",
    "- urls. Here you are trying to define all the different ways of writing urls (https, http, no http). \n",
    "- Dates. Again many variations: 17th of June 2017, 06/17/17 or 17. June 17\n",
    "- addresses, \n",
    "- phone numbers: 8888888 or 88 88 88 88 or +45 88 88 88 88,\n",
    "- emojiies in text. Capturing all the different ways of expressing smiley faces with one regular expression. \n",
    "\n",
    "\n"
   ]
  },
  {
   "cell_type": "markdown",
   "metadata": {
    "slideshow": {
     "slide_type": "subslide"
    }
   },
   "source": [
    "** Regular Expression syntax **\n",
    "\n",
    "Ressources:\n",
    "Best way to learn is to practice, and with interactive examples. Two good ressources are here:\n",
    "* Community and interactive playground [here](http://regexr.com/)\n",
    "* Interactive tutorial [here](https://regexone.com/)\n",
    "* or you can use your notebook.\n",
    "\n",
    "Lookup all special characters [here](https://www.regular-expressions.info/refquick.html)\n",
    "\n",
    "* \\+ = 1 or more times  -- e.g. \"a+\" will match: \"a\", and \"aaa\"\n",
    "* \\* = 0 or more times  -- e.g. \"ba*\" will match: \"b\", and \"ba\", and \"baaa\"\n",
    "* {3} = exactly three times --- e.g. \"ba{3}\" will match \"baaa\", but not \"baa\"\n",
    "* ? = once or none\n",
    "* \\\\ = escape character, used to find characters that has special meaning with regex: e.g. \\+ \\*\n",
    "* [] = allows you to define a set of characters\n",
    "* ^ = applied within a set, it becomes the inverse of the set defined. Applied outside a set it entails the beginning of a string. $ entails the end of a string.\n",
    "* . = any characters except line break\n",
    "* | = or statement. -- e.g. a|b means find characters a or b.\n",
    "* \\d = digits\n",
    "* \\D = any-non-digits.\n",
    "* \\s = whitespace-separator\n",
    "\n",
    "Sequences\n",
    "* (?:) = Defines a Non-capturing group. -- e.g. \"(?:abc)+\", will match \"abc\" and \"abcabcabc\", but not \"aabbcc\"\n",
    "* (?=)\t= Positive lookahead - only match a certain pattern if a certain pattern comes after it.\n",
    "* (?!)\t= Negative lookahead - only match a certain pattern if **not** a certain pattern comes after it.\n",
    "* (?<=)\t= Positive lookbehind - only match a certain pattern if a certain pattern precedes it.\n",
    "* (?<!) = Negative lookbehind - only match a certain pattern if **not** a certain pattern precedes it."
   ]
  },
  {
   "cell_type": "markdown",
   "metadata": {
    "slideshow": {
     "slide_type": "slide"
    }
   },
   "source": [
    "## Regular expressions (2): define - inspect - refine\n",
    "You are trying to balance getting (and learning/exploring) all the different variations of e.g. an emojii. while also making sure not to include ordinary use of :. \n",
    "\n",
    "This means iterating through many steps, some expressions being too broad others being to narrow, and others not matching all that you need.\n",
    "\n",
    "I developed a small module for this that you can use. Just run the following piece of code to download, save and import the module.\n",
    "\n",
    "```python \n",
    "# download module\n",
    "url = 'https://raw.githubusercontent.com/snorreralund/explore_regex/master/explore_regex.py'\n",
    "response = requests.get(url)\n",
    "# write script to your folder to create a locate module\n",
    "with open('explore_regex.py','w') as f:\n",
    "    f.write(response.text)\n",
    "# import local module\n",
    "import explore_regex as e_re\n",
    "```"
   ]
  },
  {
   "cell_type": "markdown",
   "metadata": {
    "slideshow": {
     "slide_type": "slide"
    }
   },
   "source": [
    "## Lets do an example\n",
    "first we get a dataset to play with. \n",
    "We download the following link using pandas and dump it to your local machine using the `pd.to_csv()` method."
   ]
  },
  {
   "cell_type": "code",
   "execution_count": 39,
   "metadata": {
    "slideshow": {
     "slide_type": "subslide"
    }
   },
   "outputs": [],
   "source": [
    "import pandas as pd\n",
    "import re\n",
    "path2data = 'https://raw.githubusercontent.com/snorreralund/scraping_seminar/master/danish_review_sample.csv'\n",
    "df = pd.read_csv(path2data) # get the data\n",
    "df.to_csv('danish_review_sample.csv',index=False) # save the data\n",
    "\n",
    "digit_re = re.compile('[0-9]+') # compiled regular expression for matching digits\n",
    "df['hasNumber'] = df.reviewBody.apply(lambda x: len(digit_re.findall(x))>0) # check if it has a number\n"
   ]
  },
  {
   "cell_type": "code",
   "execution_count": 41,
   "metadata": {
    "slideshow": {
     "slide_type": "subslide"
    }
   },
   "outputs": [],
   "source": [
    "sample_string = '\\n'.join(df[df.hasNumber].sample(2000).reviewBody)\n",
    "#sample_string[0:2000]"
   ]
  },
  {
   "cell_type": "code",
   "execution_count": 42,
   "metadata": {
    "slideshow": {
     "slide_type": "subslide"
    }
   },
   "outputs": [],
   "source": [
    "import explore_regex as e_re\n",
    "%matplotlib inline"
   ]
  },
  {
   "cell_type": "code",
   "execution_count": 57,
   "metadata": {
    "slideshow": {
     "slide_type": "subslide"
    }
   },
   "outputs": [
    {
     "name": "stdout",
     "output_type": "stream",
     "text": [
      "------ Pattern: kr\t Matched 1071 patterns -----\n",
      "Found 0 overlaps between the expressions:\n",
      "        pattern1: kr \t and\n",
      "        pattern2: kr\n",
      "        1071 included in pattern1 and not in the pattern2\n",
      "        1071 was included in pattern2 and not in pattern1\n",
      "------ Pattern: [0-9]+kr\t Matched 83 patterns -----\n",
      "Found 166 overlaps between the expressions:\n",
      "        pattern1: [0-9]+kr \t and\n",
      "        pattern2: kr\n",
      "        0 included in pattern1 and not in the pattern2\n",
      "        988 was included in pattern2 and not in pattern1\n",
      "------ Pattern: [0-9]+(?:[,.][0-9]+)?kr\t Matched 83 patterns -----\n",
      "Found 166 overlaps between the expressions:\n",
      "        pattern1: [0-9]+(?:[,.][0-9]+)?kr \t and\n",
      "        pattern2: kr\n",
      "        0 included in pattern1 and not in the pattern2\n",
      "        988 was included in pattern2 and not in pattern1\n",
      "------ Pattern: [0-9]+(?:[,.][0-9]+)?\\s{0,2}kr\t Matched 339 patterns -----\n",
      "Found 678 overlaps between the expressions:\n",
      "        pattern1: [0-9]+(?:[,.][0-9]+)?\\s{0,2}kr \t and\n",
      "        pattern2: kr\n",
      "        0 included in pattern1 and not in the pattern2\n",
      "        732 was included in pattern2 and not in pattern1\n",
      "------ Pattern: [0-9]+(?:[,.][0-9]+)?\\s{0,5}kr(?:oner)?\t Matched 339 patterns -----\n",
      "Found 678 overlaps between the expressions:\n",
      "        pattern1: [0-9]+(?:[,.][0-9]+)?\\s{0,5}kr(?:oner)? \t and\n",
      "        pattern2: kr\n",
      "        0 included in pattern1 and not in the pattern2\n",
      "        732 was included in pattern2 and not in pattern1\n",
      "Match: 210kr\tContext: afgift = 210kr. oven i :\n",
      "Match: 2777kr\tContext: får mine 2777kr tilbage f\n",
      "Match: 24000kr\tContext:gning til 24000kr, som de k\n",
      "Match: 3000kr\tContext:r i juni, 3000kr i okt (so\n",
      "Match: 39kr\tContext: fragt på 39kr. + 39kr. \n",
      "Match: 200kr\tContext:mtrent de 200kr! Fin serv\n",
      "Match: 300kr\tContext:kr 😧\n",
      "Hele 300kr i gebyr 👎\n",
      "Match: 399kr\tContext:- jeg gav 399kr for at \"B\n",
      "Match: 100kr\tContext:, gav mig 100kr for lidt \n",
      "Match: 100kr\tContext:er næsten 100kr billigere\n"
     ]
    },
    {
     "data": {
      "text/plain": [
       "['kr',\n",
       " '[0-9]+kr',\n",
       " '[0-9]+(?:[,.][0-9]+)?kr',\n",
       " '[0-9]+(?:[,.][0-9]+)?\\\\s{0,2}kr',\n",
       " '[0-9]+(?:[,.][0-9]+)?\\\\s{0,5}kr(?:oner)?']"
      ]
     },
     "execution_count": 57,
     "metadata": {},
     "output_type": "execute_result"
    }
   ],
   "source": [
    "# money example\n",
    "#explore_money = e_re.ExploreRegex(sample_string)\n",
    "pattern = '[0-9]+(?:[.,][0-9]+)? ?kr'\n",
    "#pattern = 'kr'\n",
    "#explore_money.explore_pattern(pattern)\n",
    "\n",
    "first = 'kr'\n",
    "second = '[0-9]+kr'\n",
    "third = '[0-9]+(?:[,.][0-9]+)?kr'\n",
    "fourth = '[0-9]+(?:[,.][0-9]+)?\\s{0,2}kr'\n",
    "final = '[0-9]+(?:[,.][0-9]+)?\\s{0,5}kr(?:oner)?'\n",
    "patterns = [first,second,third,fourth,final]\n",
    "for pattern in patterns:\n",
    "    explore_money.explore_difference(pattern,patterns[0])\n",
    "explore_money.explore_pattern(second)\n",
    "explore_money.patterns"
   ]
  },
  {
   "cell_type": "code",
   "execution_count": 6,
   "metadata": {
    "slideshow": {
     "slide_type": "subslide"
    }
   },
   "outputs": [
    {
     "name": "stdout",
     "output_type": "stream",
     "text": [
      "------ Pattern: kr\t Matched 1071 patterns -----\n",
      "------ Pattern: [0-9]+kr\t Matched 83 patterns -----\n",
      "------ Pattern: [0-9]+(?:[,.][0-9]+)?kr\t Matched 83 patterns -----\n",
      "------ Pattern: [0-9]+(?:[,.][0-9]+)?\\s{0,2}kr\t Matched 343 patterns -----\n",
      "------ Pattern: [0-9]+(?:[,.][0-9]+)?\\s{0,5}kr(?:oner)?\t Matched 343 patterns -----\n"
     ]
    },
    {
     "data": {
      "image/png": "[encoded data removed]",
      "text/plain": [
       "<matplotlib.figure.Figure at 0x1b8e94d0358>"
      ]
     },
     "metadata": {},
     "output_type": "display_data"
    }
   ],
   "source": [
    "explore_money.report('hard')"
   ]
  },
  {
   "cell_type": "code",
   "execution_count": 7,
   "metadata": {
    "slideshow": {
     "slide_type": "subslide"
    }
   },
   "outputs": [
    {
     "name": "stdout",
     "output_type": "stream",
     "text": [
      "[0-9]+(?:[,.][0-9]+)?\\s{0,2}kr [0-9]+(?:[,.][0-9]+)?\\s{0,5}kr(?:oner)?\n",
      "Found 686 overlaps between the expressions:\n",
      "        pattern1: [0-9]+(?:[,.][0-9]+)?\\s{0,2}kr \t and\n",
      "        pattern2: [0-9]+(?:[,.][0-9]+)?\\s{0,5}kr(?:oner)?\n",
      "        0 included in pattern1 and not in the pattern2\n",
      "        0 was included in pattern2 and not in pattern1\n"
     ]
    },
    {
     "data": {
      "text/plain": [
       "([], [])"
      ]
     },
     "execution_count": 7,
     "metadata": {},
     "output_type": "execute_result"
    }
   ],
   "source": [
    "print(explore_money.patterns[3],explore_money.patterns[4])\n",
    "explore_money.explore_difference(explore_money.patterns[3],explore_money.patterns[4])"
   ]
  }
 ],
 "metadata": {
  "celltoolbar": "Slideshow",
  "kernelspec": {
   "display_name": "Python 3",
   "language": "python",
   "name": "python3"
  },
  "language_info": {
   "codemirror_mode": {
    "name": "ipython",
    "version": 3
   },
   "file_extension": ".py",
   "mimetype": "text/x-python",
   "name": "python",
   "nbconvert_exporter": "python",
   "pygments_lexer": "ipython3",
   "version": "3.5.5"
  }
 },
 "nbformat": 4,
 "nbformat_minor": 2
}
