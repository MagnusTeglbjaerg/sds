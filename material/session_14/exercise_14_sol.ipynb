{
 "cells": [
  {
   "cell_type": "markdown",
   "metadata": {},
   "source": [
    "> **Note:** In most sessions you will be solving exercises posed in a Jupyter notebook that looks like this one. Because you are cloning a Github repository that only we can push to, you should **NEVER EDIT** any of the files you pull from Github. Instead, what you should do, is either make a new notebook and write your solutions in there, or **make a copy of this notebook and save it somewhere else** on your computer, not inside the `sds` folder that you cloned, so you can write your answers in there. If you edit the notebook you pulled from Github, those edits (possible your solutions to the exercises) may be overwritten and lost the next time you pull from Github. This is important, so don't hesitate to ask if it is unclear."
   ]
  },
  {
   "cell_type": "code",
   "execution_count": 2,
   "metadata": {},
   "outputs": [],
   "source": [
    "import matplotlib.pyplot as plt \n",
    "import pandas as pd \n",
    "import numpy as np\n",
    "import seaborn as sns "
   ]
  },
  {
   "cell_type": "markdown",
   "metadata": {
    "ExecuteTime": {
     "end_time": "2017-08-23T15:30:03.634114Z",
     "start_time": "2017-08-23T15:30:03.629294Z"
    }
   },
   "source": [
    "# Exercise Set 14: Classification Trees\n",
    "\n",
    "*Afternoon, August 21, 2018*\n",
    "\n",
    "In this Exercise Set 14 we will explore some of the most used tree-based classifiers, beginning with simple decision tree classifiers. \n",
    "\n",
    "\n",
    "> **Ex. 14.1.1:** In this exercise set we will work with the titanic dataset. Run the code below to get a variable **data**. Notice the last line of the code - what does it do?\n",
    ">\n",
    ">```python\n",
    "> rawdata = sns.load_dataset('titanic').sample(frac=1, random_state = 3)\n",
    "> ```\n",
    "># Feature creation\n",
    "> ```python\n",
    ">rawdata['male'] = (rawdata['sex'] == 'male').astype(int)\n",
    ">rawdata['alone'] = rawdata['alone'].astype(int)\n",
    ">rawdata['adult_male'] = rawdata['adult_male'].astype(int)\n",
    "> ```\n",
    "> The following piece of code (in multiple lines) generates dummies for all of the categorical variables. \n",
    "> ```\n",
    "data = pd.get_dummies(rawdata, \n",
    "                      columns = ['class', 'sibsp', 'parch', 'deck'], \n",
    "                      drop_first=True)\\\n",
    "         .drop(['pclass', 'sex', 'embarked', 'who', 'embark_town', 'alive'], axis = 1)\n",
    ">```\n",
    "> Read about decision-tree classification [here](http://scikit-learn.org/stable/modules/tree.html#classification). Try to explain why decision tree classification can _only_ produce splits orthogonal to one of the axes. "
   ]
  },
  {
   "cell_type": "code",
   "execution_count": 2,
   "metadata": {},
   "outputs": [],
   "source": [
    "# [Answer to Ex. 14.1.1]"
   ]
  },
  {
   "cell_type": "code",
   "execution_count": 3,
   "metadata": {},
   "outputs": [],
   "source": [
    "rawdata = sns.load_dataset('titanic').sample(frac=1, random_state = 3)\n",
    "\n",
    "# Feature creation\n",
    "rawdata['male'] = (rawdata['sex'] == 'male').astype(int)\n",
    "rawdata['alone'] = rawdata['alone'].astype(int)\n",
    "rawdata['adult_male'] = rawdata['adult_male'].astype(int)\n",
    "\n",
    "\n",
    "# The following piece of code (in multiple lines) generates \n",
    "# dummies for all of the categorical variables. \n",
    "data = pd.get_dummies(rawdata, \n",
    "                      columns = ['class', 'sibsp', 'parch', 'deck'], \n",
    "                      drop_first=True)\\\n",
    "         .drop(['pclass', 'sex', 'embarked', 'who', 'embark_town', 'alive'], axis = 1)\n",
    "\n",
    "\n",
    "# Answer: \n",
    "# Decision Tree classifiers work by doing greater than/less \n",
    "# than splits on each of the variables, so every split is simply a rule \n",
    "# for how to classify variables larger or smaller than some threshold on one \n",
    "# of the axes. Therefore DT can only produce vertical or horizontal splits (in 2D data). "
   ]
  },
  {
   "cell_type": "markdown",
   "metadata": {},
   "source": [
    "> **Ex. 14.1.2:** Use `data` to create a numpy array **X** and an array **y**, y should contain the variable called 'survived', and X should contain all the other variables. Remove all rows containing missing values beforehand."
   ]
  },
  {
   "cell_type": "code",
   "execution_count": 4,
   "metadata": {},
   "outputs": [],
   "source": [
    "# [Answer to Ex. 14.1.2]"
   ]
  },
  {
   "cell_type": "code",
   "execution_count": 5,
   "metadata": {},
   "outputs": [],
   "source": [
    "data = data.dropna().reset_index()\n",
    "\n",
    "X = np.array(data.drop('survived', axis = 1))\n",
    "y = np.array(data['survived'])"
   ]
  },
  {
   "cell_type": "markdown",
   "metadata": {},
   "source": [
    "> **Ex. 14.1.3**: Train a decision tree classifier on **all** of the titanic data.\n",
    ">\n",
    ">* If your feature matrix is `X` and your target array is `y` you can do this by instantiating a model like:\n",
    ">\n",
    "        from sklearn.tree import DecisionTreeClassifier\n",
    "        model = DecisionTreeClassifier()\n",
    "        model.fit(X, y)  # <--- This is the training/fitting/learning step\n",
    ">       \n",
    ">Write four functions that counts the number of ..\n",
    " - true positives where we call the function `TP`;\n",
    " - true negatives where we call the function `TN`;\n",
    " - false positives where we call the function `FP`;\n",
    " - false negatives where we call the function `FN`.\n",
    "\n",
    "> All of these functions should take three arguments, the actual y column, the actual X column and a fittedModel object (e.g. `fittedModel = DecisionTreeClassifier.fit(X,y)`)\n",
    ">\n",
    ">> _Hint 1:_ use the function `np.where` to compare y and the predicted values. For example `y + prediction == 2` is true only for the True Positives.\n",
    ">\n",
    ">> _Hint 2:_ You can check if your result is correct by summing all four functions and checking that the result equals to the number of observations. "
   ]
  },
  {
   "cell_type": "code",
   "execution_count": 6,
   "metadata": {},
   "outputs": [],
   "source": [
    "# [Answer to Ex. 14.1.3]\n",
    "\n",
    "# This will be in assignment 2"
   ]
  },
  {
   "cell_type": "markdown",
   "metadata": {},
   "source": [
    "> **Ex. 14.1.4:** Combine the four functions you defined above to write your own accuracy function, which calculates\n",
    "$$\n",
    "ACC = \\frac{TP + TN}{TP+ TN + FP + FN}\n",
    "$$\n",
    ">\n",
    "> Test the accuracy of your model using the `A` function. Report the accuracy of your model on the same data that you trained the model on.\n",
    ">\n",
    ">> _Note:_ The reason we want to split the calculation of accuracy into these four components, is that we can then easily calculate other scores, such as the _precision, recall and f1_."
   ]
  },
  {
   "cell_type": "code",
   "execution_count": null,
   "metadata": {},
   "outputs": [],
   "source": [
    "# [Answer to Ex. 14.1.4]\n",
    "\n",
    "# This will be in assignment 2"
   ]
  },
  {
   "cell_type": "markdown",
   "metadata": {},
   "source": [
    "> **Ex. 14.1.5**: So far our model has been achieving an unbelievably high accuracy of 100% correct classification.\n",
    ">\n",
    ">1. Why did you get such a high accuracy in the previous exercises?\n",
    ">2. Split your data into a test and training set of equal size. Train the model only on the training set and report its accuracy on both the training and test sets.\n",
    ">> Hint: `from sklearn.model_selection import train_test_split` is an easy way to split your data.\n",
    ">3. Comment on the difference you observe."
   ]
  },
  {
   "cell_type": "code",
   "execution_count": null,
   "metadata": {},
   "outputs": [],
   "source": [
    "# [Answer to Ex. 14.1.5]"
   ]
  },
  {
   "cell_type": "code",
   "execution_count": 16,
   "metadata": {},
   "outputs": [
    {
     "name": "stdout",
     "output_type": "stream",
     "text": [
      "On our test data we achieve an accuracy of 1.0\n",
      "but in the test data it is only 0.744\n",
      "This difference is evidence that our model is overfitting.\n"
     ]
    }
   ],
   "source": [
    "from sklearn.model_selection import train_test_split \n",
    "\n",
    "X_train, X_test, y_train, y_test = train_test_split(X, y, test_size=0.3, random_state=1)\n",
    "\n",
    "clf_dt.fit(X_train, y_train)\n",
    "acc_train_dt = round(ACC(X_train, y_train, clf_dt), 3)\n",
    "acc_test_dt = round(ACC(X_test, y_test, clf_dt), 3)\n",
    "print(\"On our test data we achieve an accuracy of {}\".format(acc_train_dt))\n",
    "print(\"but in the test data it is only {}\".format(acc_test_dt))\n",
    "print('This difference is evidence that our model is overfitting.')"
   ]
  },
  {
   "cell_type": "markdown",
   "metadata": {},
   "source": [
    "> **Ex. 14.1.6:** Read about the random forest classifier in [the documentation](http://scikit-learn.org/stable/modules/generated/sklearn.ensemble.RandomForestClassifier.html) - how does the RF learner relate to decision trees? Train a random forest classifier, and print its train-accuracy and test-accuracy. How does it compare to the decision tree?"
   ]
  },
  {
   "cell_type": "code",
   "execution_count": null,
   "metadata": {},
   "outputs": [],
   "source": [
    "# [Answer to Ex. 14.1.6]"
   ]
  },
  {
   "cell_type": "code",
   "execution_count": 29,
   "metadata": {},
   "outputs": [
    {
     "name": "stdout",
     "output_type": "stream",
     "text": [
      "Train error: 0.9859719438877755\n",
      "Test error: 0.827906976744186\n"
     ]
    }
   ],
   "source": [
    "from sklearn.ensemble import RandomForestClassifier\n",
    "\n",
    "clf_rf = RandomForestClassifier(random_state=1)\n",
    "clf_rf.fit(X_train, y_train)\n",
    "\n",
    "acc_train_rf = ACC(X_train, y_train, clf_rf)\n",
    "acc_test_rf = ACC(X_test, y_test, clf_rf)\n",
    "print(\"Train error: {}\".format(acc_train_rf))\n",
    "print(\"Test error: {}\".format(acc_test_rf))"
   ]
  },
  {
   "cell_type": "markdown",
   "metadata": {},
   "source": [
    "> **Ex. 14.1.7:** Random forest have a number of hyperparameters that we can use. Often we just use the default settings as they are shown to be pretty good. Sometimes we want to make sure we grow the right number of trees to grow in the forest. Try varying `n_estimators` and plot the resulting curve. \n",
    "\n",
    ">> *Hint:* try the `validation_curve` which we learned about in Ex. 13.1.4.\n",
    "\n"
   ]
  },
  {
   "cell_type": "code",
   "execution_count": 84,
   "metadata": {},
   "outputs": [
    {
     "data": {
      "text/plain": [
       "[<matplotlib.lines.Line2D at 0x20c932e2e10>]"
      ]
     },
     "execution_count": 84,
     "metadata": {},
     "output_type": "execute_result"
    },
    {
     "data": {
      "image/png": "[encoded data removed]",
      "text/plain": [
       "<matplotlib.figure.Figure at 0x20c932fc0f0>"
      ]
     },
     "metadata": {},
     "output_type": "display_data"
    }
   ],
   "source": [
    "from sklearn.model_selection import validation_curve\n",
    "\n",
    "n_estimators_rng = np.unique(np.logspace(0,2,20).astype(np.int64))\n",
    "\n",
    "clf_rf = RandomForestClassifier(n_estimators=10,random_state=2)\n",
    "\n",
    "train_scores, test_scores = \\\n",
    "    validation_curve(estimator=clf_rf, \n",
    "                     X=X, \n",
    "                     y=y,\n",
    "                     param_name='n_estimators', \n",
    "                     param_range=n_estimators_rng,\n",
    "                     cv=5)\n",
    "    \n",
    "f,ax = plt.subplots()\n",
    "\n",
    "ax.plot(n_estimators_rng, np.mean(train_scores, 1), label='Test scores')\n",
    "ax.plot(n_estimators_rng, np.mean(test_scores, 1), label='Train scores')    "
   ]
  },
  {
   "cell_type": "markdown",
   "metadata": {},
   "source": [
    "> **Ex. 14.1.8:** Often we want to see the learning curve which shows model scores for test and train data with increasing sample sizes. Try making this plot. Be sure to use the n_estimators you have deemed useful.\n",
    "\n",
    "> A balanced model should show a declining train and an increasing test score when adding more observations. Is this the case? \n",
    "\n",
    ">> *Hint:* try the `validation_curve` which we learned about in Ex. 13.1.4.\n",
    "\n"
   ]
  },
  {
   "cell_type": "code",
   "execution_count": 30,
   "metadata": {},
   "outputs": [
    {
     "data": {
      "text/plain": [
       "Text(0,0.5,'Number of observations used')"
      ]
     },
     "execution_count": 30,
     "metadata": {},
     "output_type": "execute_result"
    }
   ],
   "source": [
    "from sklearn.model_selection import learning_curve\n",
    "\n",
    "clf_rf = RandomForestClassifier(n_estimators=20)\n",
    "train_sizes, train_scores, test_scores = \\\n",
    "    learning_curve(estimator=clf_rf, \n",
    "                   train_sizes=np.arange(.1,1,.05),\n",
    "                   X=X, \n",
    "                   y=y,\n",
    "                   cv=5)\n",
    "\n",
    "f,ax = plt.subplots()\n",
    "ax.plot(train_sizes, np.mean(train_scores, 1), label='Test scores')\n",
    "ax.plot(train_sizes, np.mean(test_scores, 1), label='Train scores')    \n",
    "ax.set_ylabel('Accuracy')\n",
    "ax.set_ylabel('Number of observations used')"
   ]
  },
  {
   "cell_type": "markdown",
   "metadata": {},
   "source": [
    "> **Ex. 14.1.9 (BONUS):** We want to reduce the overfitting in our random forest. Read through the random forest and check which hyperparameters may help mitigating overfitting. You can use validation curves to search these. Try to making a new learning curve.\n",
    "\n",
    ">> *Hint 1:* Can the number of features used in bootstrapping also be considered a hyperparameter? \n",
    "\n",
    ">> *Hint 2:* Can the depth of trees be considered a hyperparameter? \n",
    "\n",
    ">> *Hint 3:* sklearn has the built-in `learning_curve` in model_selection."
   ]
  },
  {
   "cell_type": "code",
   "execution_count": 31,
   "metadata": {},
   "outputs": [],
   "source": [
    "from sklearn.model_selection import validation_curve\n",
    "clf_rf = RandomForestClassifier(n_estimators=60)\n",
    "\n",
    "# STEP 1: we try out 'max_features' and 'max_depth'\n",
    "hyperparameters = {'max_features':np.arange(2,X.shape[1]),\n",
    "                   'max_depth':[1,2,3,4,5,6]}\n",
    "\n",
    "for param_name, param_range in hyperparameters.items():\n",
    "    train_scores, test_scores = \\\n",
    "        validation_curve(estimator=clf_rf, \n",
    "                         X=X, \n",
    "                         y=y,\n",
    "                         param_name=param_name, \n",
    "                         param_range=param_range,\n",
    "                         cv=5)\n",
    "\n",
    "    f,ax = plt.subplots()\n",
    "\n",
    "    ax.plot(param_range, np.mean(train_scores, 1), label='Train scores')\n",
    "    ax.plot(param_range, np.mean(test_scores, 1), label='Test scores')    \n",
    "    ax.legend()\n",
    "    ax.set_ylabel('Accuracy')\n",
    "    ax.set_xlabel(param_name)\n",
    "    \n",
    "    \n",
    "# STEP 2: we try out making learning curves for various max_depth levels\n",
    "\n",
    "for max_depth in  (3,5,7):\n",
    "    clf_rf = RandomForestClassifier(n_estimators=20, max_depth=max_depth)\n",
    "    train_sizes, train_scores, test_scores = \\\n",
    "        learning_curve(estimator=clf_rf, \n",
    "                       train_sizes=np.arange(.1,1,.05),\n",
    "                       X=X, \n",
    "                       y=y,\n",
    "                       cv=5)\n",
    "\n",
    "    f,ax = plt.subplots()\n",
    "    ax.plot(train_sizes, np.mean(train_scores, 1), label='Test scores')\n",
    "    ax.plot(train_sizes, np.mean(test_scores, 1), label='Train scores')    \n",
    "    ax.set_ylabel('Accuracy')\n",
    "    ax.set_xlabel('Number of observations used')\n",
    "    ax.set_title('Max depth: %i' % max_depth)"
   ]
  }
 ],
 "metadata": {
  "kernelspec": {
   "display_name": "Python 3",
   "language": "python",
   "name": "python3"
  },
  "language_info": {
   "codemirror_mode": {
    "name": "ipython",
    "version": 3
   },
   "file_extension": ".py",
   "mimetype": "text/x-python",
   "name": "python",
   "nbconvert_exporter": "python",
   "pygments_lexer": "ipython3",
   "version": "3.6.5"
  },
  "nav_menu": {},
  "toc": {
   "navigate_menu": true,
   "number_sections": false,
   "sideBar": true,
   "threshold": 6,
   "toc_cell": false,
   "toc_section_display": "block",
   "toc_window_display": true
  }
 },
 "nbformat": 4,
 "nbformat_minor": 2
}
